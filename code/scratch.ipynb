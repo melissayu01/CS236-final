{
 "cells": [
  {
   "cell_type": "code",
   "execution_count": 1,
   "metadata": {
    "collapsed": true
   },
   "outputs": [],
   "source": [
    "import torch\n",
    "from torch.autograd import Variable\n",
    "import torch.nn as nn\n",
    "import torch.nn.functional as F\n",
    "\n",
    "from torch.utils.data import TensorDataset, DataLoader\n",
    "\n",
    "import pandas as pd\n",
    "import numpy as np\n",
    "\n",
    "from sklearn.preprocessing import Imputer"
   ]
  },
  {
   "cell_type": "code",
   "execution_count": 90,
   "metadata": {
    "collapsed": true
   },
   "outputs": [],
   "source": [
    "def load_data(batch_size, shuffle, use_val=False):\n",
    "    train = pd.read_csv('../data/train.csv', header=0, index_col=0).values\n",
    "    test = pd.read_csv('../data/test.csv', header=0, index_col=0).values\n",
    "        \n",
    "    imp = Imputer(missing_values='NaN', strategy='mean', axis=0)\n",
    "    X_train = imp.fit_transform(train[:, 1:])\n",
    "    y_train = train[:, 0]\n",
    "    X_test = imp.transform(test[:, 1:])\n",
    "    \n",
    "    print(X_train.shape, y_train.shape)\n",
    "    \n",
    "    n_train = int(len(X_train) * 0.9)\n",
    "    train_dataset = TensorDataset(\n",
    "        torch.from_numpy(X_train[:n_train]).float(), \n",
    "        torch.from_numpy(y_train[:n_train]).float())\n",
    "    if use_val:\n",
    "        val_dataset = TensorDataset(\n",
    "            torch.from_numpy(X_train[n_train:]).float(), \n",
    "            torch.from_numpy(y_train[n_train:]).float())\n",
    "    test_dataset = TensorDataset(\n",
    "        torch.from_numpy(X_test).float(), \n",
    "        torch.from_numpy(np.zeros(len(X_test))).float())\n",
    "    \n",
    "    train_loader = DataLoader(\n",
    "        train_dataset, batch_size=batch_size, shuffle=shuffle)\n",
    "    if use_val:\n",
    "        val_loader = DataLoader(\n",
    "            val_dataset, batch_size=batch_size, shuffle=shuffle)\n",
    "    test_loader = DataLoader(\n",
    "        test_dataset, batch_size=1, shuffle=False)\n",
    "\n",
    "    return X_train.shape[1], train_loader, val_loader if use_val else None, test_loader"
   ]
  },
  {
   "cell_type": "code",
   "execution_count": 96,
   "metadata": {
    "collapsed": false
   },
   "outputs": [
    {
     "name": "stdout",
     "output_type": "stream",
     "text": [
      "(150000, 10) (150000,)\n"
     ]
    }
   ],
   "source": [
    "n_features, train_loader, val_loader, test_loader = load_data(batch_size=256, shuffle=True, use_val=True)"
   ]
  },
  {
   "cell_type": "code",
   "execution_count": 97,
   "metadata": {
    "collapsed": true
   },
   "outputs": [],
   "source": [
    "in_dim = n_features\n",
    "h_dim = 30\n",
    "out_dim = 1\n",
    "\n",
    "model = nn.Sequential(\n",
    "    nn.Linear(in_dim, h_dim),\n",
    "    nn.ReLU(),\n",
    "    nn.Linear(h_dim, out_dim),\n",
    "    nn.Sigmoid()\n",
    ")\n",
    "\n",
    "criterion = nn.BCELoss()\n",
    "optimizer = torch.optim.Adam(model.parameters(), lr=0.0001)"
   ]
  },
  {
   "cell_type": "code",
   "execution_count": 98,
   "metadata": {
    "collapsed": false
   },
   "outputs": [
    {
     "name": "stdout",
     "output_type": "stream",
     "text": [
      "[1,   500] loss: 1.825\n",
      "[2,   500] loss: 1.103\n",
      "[3,   500] loss: 0.448\n",
      "[4,   500] loss: 0.432\n",
      "[5,   500] loss: 0.411\n",
      "[6,   500] loss: 0.377\n",
      "[7,   500] loss: 0.351\n",
      "[8,   500] loss: 0.346\n",
      "[9,   500] loss: 0.329\n",
      "[10,   500] loss: 0.298\n",
      "[11,   500] loss: 0.284\n",
      "[12,   500] loss: 0.277\n",
      "[13,   500] loss: 0.253\n",
      "[14,   500] loss: 0.266\n",
      "[15,   500] loss: 0.250\n",
      "[16,   500] loss: 0.249\n",
      "[17,   500] loss: 0.252\n",
      "[18,   500] loss: 0.245\n",
      "[19,   500] loss: 0.259\n",
      "[20,   500] loss: 0.255\n",
      "[21,   500] loss: 0.247\n",
      "[22,   500] loss: 0.244\n",
      "[23,   500] loss: 0.259\n",
      "[24,   500] loss: 0.244\n",
      "[25,   500] loss: 0.254\n",
      "[26,   500] loss: 0.248\n",
      "[27,   500] loss: 0.247\n",
      "[28,   500] loss: 0.245\n",
      "[29,   500] loss: 0.261\n",
      "[30,   500] loss: 0.258\n"
     ]
    }
   ],
   "source": [
    "for epoch in range(30):\n",
    "    running_loss = 0.0\n",
    "    for i, data in enumerate(train_loader):\n",
    "        inputs, labels = data\n",
    "        inputs, labels = Variable(inputs), Variable(labels.float())\n",
    "\n",
    "        # zero the parameter gradients\n",
    "        optimizer.zero_grad()\n",
    "\n",
    "        # forward + backward + optimize\n",
    "        outputs = model(inputs).squeeze()\n",
    "        loss = criterion(outputs, labels)\n",
    "        loss.backward()\n",
    "        optimizer.step()\n",
    "\n",
    "        # print statistics\n",
    "        running_loss += loss.data[0]\n",
    "        if i % 500 == 499:    # print every 500 mini-batches\n",
    "            print('[%d, %5d] loss: %.3f' %\n",
    "                  (epoch + 1, i + 1, running_loss / 500))\n",
    "            running_loss = 0.0\n"
   ]
  },
  {
   "cell_type": "code",
   "execution_count": 122,
   "metadata": {
    "collapsed": false
   },
   "outputs": [],
   "source": [
    "correct = 0\n",
    "total = 0\n",
    "pred_ages = []\n",
    "all_ages = []\n",
    "\n",
    "for data in train_loader:\n",
    "    inputs, labels = data\n",
    "    inputs, labels = Variable(inputs), Variable(labels)\n",
    "    \n",
    "    outputs = model(inputs).squeeze()\n",
    "    predicted = torch.round(outputs.data).long()\n",
    "    msk = torch.eq(predicted, 1)\n",
    "    ages = list((inputs[:, 1][msk]).data.numpy())\n",
    "    _ages = list((inputs[:, 1]).data.numpy())\n",
    "    pred_ages.extend(ages)\n",
    "    all_ages.extend(_ages)\n",
    "#     total += labels.size(0)\n",
    "#     correct += (predicted.long() == labels.long()).sum().data[0]\n",
    "\n",
    "# print('Accuracy of the network on the val set: ', correct / total)"
   ]
  },
  {
   "cell_type": "code",
   "execution_count": 127,
   "metadata": {
    "collapsed": false
   },
   "outputs": [
    {
     "data": {
      "image/png": "[encoded data removed]",
      "text/plain": [
       "<matplotlib.figure.Figure at 0x1a20e05d30>"
      ]
     },
     "metadata": {},
     "output_type": "display_data"
    }
   ],
   "source": [
    "import matplotlib.mlab as mlab\n",
    "import matplotlib.pyplot as plt\n",
    "\n",
    "# the histogram of the data\n",
    "n, bins, patches = plt.hist(all_ages, 40, normed=1, facecolor='green', alpha=0.75, label='Data distribution')\n",
    "n, bins, patches = plt.hist(pred_ages, 40, normed=1, facecolor='red', alpha=0.75, label='Pred distribution')\n",
    "\n",
    "plt.xlabel('Age')\n",
    "plt.ylabel('P(predicted to default)')\n",
    "plt.title('Histogram of Ages')\n",
    "plt.grid(True)\n",
    "plt.axis([15, 100, 0, 0.11])\n",
    "plt.legend()\n",
    "plt.show()"
   ]
  },
  {
   "cell_type": "code",
   "execution_count": 95,
   "metadata": {
    "collapsed": true
   },
   "outputs": [],
   "source": [
    "with open('../results/preds.txt', \"w\") as fout:\n",
    "    print(\"Id,Probability\", file=fout)\n",
    "    for i, data in enumerate(test_loader, start=1):\n",
    "        input, _ = data\n",
    "        input = Variable(input)\n",
    "\n",
    "        output = model(input).squeeze()\n",
    "        print(\"%d,%f\"%(i, output), file=fout)"
   ]
  },
  {
   "cell_type": "code",
   "execution_count": null,
   "metadata": {
    "collapsed": true
   },
   "outputs": [],
   "source": []
  }
 ],
 "metadata": {
  "anaconda-cloud": {},
  "kernelspec": {
   "display_name": "Python [python3]",
   "language": "python",
   "name": "Python [python3]"
  },
  "language_info": {
   "codemirror_mode": {
    "name": "ipython",
    "version": 3
   },
   "file_extension": ".py",
   "mimetype": "text/x-python",
   "name": "python",
   "nbconvert_exporter": "python",
   "pygments_lexer": "ipython3",
   "version": "3.6.0"
  }
 },
 "nbformat": 4,
 "nbformat_minor": 0
}
